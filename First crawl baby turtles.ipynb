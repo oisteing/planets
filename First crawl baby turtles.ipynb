{
 "cells": [
  {
   "cell_type": "markdown",
   "id": "d6d7c0bb",
   "metadata": {},
   "source": [
    "## Første test med skilpadden"
   ]
  },
  {
   "cell_type": "markdown",
   "id": "f1e088f5",
   "metadata": {},
   "source": [
    "Hvis alt har gått bra med installering skal du nå være i stand til å bruke skilpaddegrafikk i python-vinduet ditt i Jupyter Notebook."
   ]
  },
  {
   "cell_type": "code",
   "execution_count": 2,
   "id": "1c0ef3d9-02f3-4d0a-a60a-66a1ad4328bf",
   "metadata": {},
   "outputs": [],
   "source": [
    "from mobilechelonian import Turtle"
   ]
  },
  {
   "cell_type": "code",
   "execution_count": 3,
   "id": "9cea5259",
   "metadata": {},
   "outputs": [
    {
     "data": {
      "application/vnd.jupyter.widget-view+json": {
       "model_id": "2fb43cf56f2d42a7a5602e38a4ec80b3",
       "version_major": 2,
       "version_minor": 0
      },
      "text/plain": [
       "Turtle()"
      ]
     },
     "metadata": {},
     "output_type": "display_data"
    }
   ],
   "source": [
    "t = Turtle()\n",
    "for i in range(4):\n",
    "    t.forward(100)\n",
    "    t.right(90)\n",
    "\n"
   ]
  },
  {
   "cell_type": "markdown",
   "id": "7b668eb6",
   "metadata": {},
   "source": [
    "Hvis vi skriver fleire kommandoar så vil desse uansett finne stad i same grafikkfeltet. Om vi ønsker eit nytt skilpaddefelt må vi hugse å lage skilpadda på nytt med t=Turtle() i starten. "
   ]
  },
  {
   "cell_type": "code",
   "execution_count": null,
   "id": "0bd4ae27",
   "metadata": {},
   "outputs": [],
   "source": [
    "t=Turtle()\n",
    "t.speed(5)\n",
    "colours=[\"red\",\"blue\",\"yellow\",\"brown\",\"black\",\"purple\",\"green\"]\n",
    "\n",
    "t.penup(); t.left(90); t.forward(200);t.right(90);t.pendown()\n",
    "for i in range (0,18):\n",
    "    t.pencolor(colours[i%7])\n",
    "    t.right(20)\n",
    "    t.forward(50)\n",
    "\n",
    "t.right(180)\n",
    "t.home()"
   ]
  },
  {
   "cell_type": "markdown",
   "id": "ac4ee1a7",
   "metadata": {},
   "source": [
    "Du kan kalle skilpadda noko anna enn t, dømes Bob."
   ]
  },
  {
   "cell_type": "code",
   "execution_count": null,
   "id": "6dc2bc5f",
   "metadata": {},
   "outputs": [],
   "source": [
    "bob=Turtle()\n"
   ]
  },
  {
   "cell_type": "markdown",
   "id": "36b3bb43",
   "metadata": {},
   "source": [
    "No kan du gi Bob kommandoar:"
   ]
  },
  {
   "cell_type": "code",
   "execution_count": null,
   "id": "34c38ceb",
   "metadata": {},
   "outputs": [],
   "source": [
    "bob.forward(100)"
   ]
  },
  {
   "cell_type": "markdown",
   "id": "4ebc7522",
   "metadata": {},
   "source": [
    "Enn om du kombinerer Bob og T?"
   ]
  },
  {
   "cell_type": "code",
   "execution_count": null,
   "id": "0e15ada1",
   "metadata": {},
   "outputs": [],
   "source": [
    "bob=Turtle()\n",
    "t=Turtle()\n",
    "bob.forward(100)\n",
    "t.right(90)\n",
    "t.forward(50)"
   ]
  },
  {
   "cell_type": "markdown",
   "id": "7c953f6c",
   "metadata": {},
   "source": [
    "Som du ser lages det to skilpaddevindu. Oppførselen til skilpadder og skilpaddegrafikk treng ikkje å vera lik i forskjellige versjonar av python, scratch eller LOGO. Kvart språk er ganske likt, men...ikkje heilt. "
   ]
  },
  {
   "cell_type": "code",
   "execution_count": null,
   "id": "3c02d75d",
   "metadata": {},
   "outputs": [],
   "source": []
  }
 ],
 "metadata": {
  "kernelspec": {
   "display_name": "Python 3",
   "language": "python",
   "name": "python3"
  },
  "language_info": {
   "codemirror_mode": {
    "name": "ipython",
    "version": 3
   },
   "file_extension": ".py",
   "mimetype": "text/x-python",
   "name": "python",
   "nbconvert_exporter": "python",
   "pygments_lexer": "ipython3",
   "version": "3.8.8"
  }
 },
 "nbformat": 4,
 "nbformat_minor": 5
}
