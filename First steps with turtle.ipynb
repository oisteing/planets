{
 "cells": [
  {
   "cell_type": "markdown",
   "metadata": {},
   "source": [
    "# Innebygd skilpadde"
   ]
  },
  {
   "cell_type": "markdown",
   "metadata": {},
   "source": [
    "Aller først må vi legge inn dei kommandoaene som skilpadda trenger. Det vil seie å legge til turtle-biblioteket. Dette har litt \"spennende\" etterdønningar, som til dømes at vindauget som blir teikna frys fast. For å unngå dette legg vi og inn biblioteket time, slik at vi kan bruke sleep()-kommandoen for å sjå grafikkvindauget nokre sekund og så stenger det.  "
   ]
  },
  {
   "cell_type": "code",
   "execution_count": 4,
   "metadata": {},
   "outputs": [],
   "source": [
    "from turtle import *\n",
    "from time import *"
   ]
  },
  {
   "cell_type": "markdown",
   "metadata": {},
   "source": [
    "Prøv dette programmet, og pass på å få med sleep og bye til slutt."
   ]
  },
  {
   "cell_type": "code",
   "execution_count": 5,
   "metadata": {},
   "outputs": [],
   "source": [
    "for a in range(1,10):\n",
    "    back(20)\n",
    "    right(85)\n",
    "    forward(100)\n",
    "sleep(5)\n",
    "bye()"
   ]
  },
  {
   "cell_type": "markdown",
   "metadata": {},
   "source": [
    "Om du prøver å køyre programmet igjen, ser du at du må importere kommandoane kvar gong..."
   ]
  },
  {
   "cell_type": "markdown",
   "metadata": {},
   "source": [
    "Skriv du istaden til dømes neste linje...\n",
    "  \n",
    " \n"
   ]
  },
  {
   "cell_type": "code",
   "execution_count": null,
   "metadata": {},
   "outputs": [],
   "source": [
    "from turtle import *\n",
    "forward(40)"
   ]
  },
  {
   "cell_type": "markdown",
   "metadata": {},
   "source": [
    "Så ser du at vindauget frys og du må stenge det og sjå om det i det heile tatt startar igjen."
   ]
  },
  {
   "cell_type": "markdown",
   "metadata": {},
   "source": [
    "Som du ser kan det vera litt problematisk å gjera skilpaddegrafikk rett, så av den grunn anbefales ofte å legge inn biblioteket mobilechelonian. "
   ]
  },
  {
   "cell_type": "code",
   "execution_count": null,
   "metadata": {},
   "outputs": [],
   "source": []
  }
 ],
 "metadata": {
  "kernelspec": {
   "display_name": "Python 3",
   "language": "python",
   "name": "python3"
  },
  "language_info": {
   "codemirror_mode": {
    "name": "ipython",
    "version": 3
   },
   "file_extension": ".py",
   "mimetype": "text/x-python",
   "name": "python",
   "nbconvert_exporter": "python",
   "pygments_lexer": "ipython3",
   "version": "3.8.8"
  }
 },
 "nbformat": 4,
 "nbformat_minor": 2
}
